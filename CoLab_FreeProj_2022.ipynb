{
 "cells": [
  {
   "cell_type": "markdown",
   "metadata": {
    "id": "qSmNiRknPfSy"
   },
   "source": [
    "# 생물정보학 및 실습 1 - Term Project용 Mission 3 환경 셋업\n",
    "\n",
    "```\n",
    "생물정보학 및 실습 1\n",
    "서울대학교 협동과정 생물정보학전공 2022년 1학기\n",
    "\n",
    "이 노트북은 Creative Commons BY-SA 조건으로 재사용 가능합니다.\n",
    "장혜식 <hyeshik@snu.ac.kr>, 서울대학교 생명과학부\n",
    "```\n",
    "\n",
    "이 노트북은 Google Colab을 이용해서 Term Project를 할 수 있도록 환경을 준비해 줍니다. 터미널 사용이 원활하지 않은 상태이고, 데이터를 오랫동안 보관하기 어렵기 때문에 되도록 개인용 컴퓨터에서 [Anaconda](https://www.anaconda.com/)나 [JupyterLab](https://jupyterlab.readthedocs.io/en/stable/) 등을 설치하고 사용하시는 것이 편하지만, 개인용 컴퓨터 사양이 부족한 경우에는 Google CoLab을 사용할 수도 있습니다. 개인용 컴퓨터를 쓸 때는 Windows에서는 [WSL2](https://docs.microsoft.com/en-us/windows/wsl/install-win10)를 쓰시면 리눅스 커맨드라인 환경을 쓸 수 있습니다. Google Colab은 창을 닫은 후 90분 후, 또는 창을 처음 열고 12시간 후에 환경을 닫아버리기 때문에 매번 실습할 때마다 새로 셋업이 필요합니다. `Runtime->Run All`을 실행해서 전체를 한 번 실행하시면 준비됩니다. 모든 것이 잘 안 되고 뭔가 꼬인 느낌이 강하게 들 때는 `Runtime->Factory reset runtime`을 누르고 새로 시작하시면 될 수도 있습니다.\n"
   ]
  },
  {
   "cell_type": "markdown",
   "metadata": {
    "id": "etOQJdMTPfS0"
   },
   "source": [
    "## 시퀀싱 데이터 다운로드\n",
    "이제 실습 수업에서 필요한 시퀀싱 데이터를 다운로드 받아서 설치합시다. 드라이브 공간만 충분하면 데이터는 계속 저장돼 있기 때문에 학기 전체를 통해서 딱 한 번만 하시면 됩니다. Colab에서는 작업용 데이터를 Google Drive 폴더 아래의 `binfo-datapack1`에 저장합니다. 실습용 데이터는 `/content/drive/MyDrive/binfo1-datapack1`에 풀리게 됩니다."
   ]
  },
  {
   "cell_type": "markdown",
   "metadata": {
    "id": "OZ0KkKrmG-M4"
   },
   "source": [
    "### (Option 2) CoLab외의 다른 환경에서 접속한 경우\n",
    "본인 컴퓨터나 연구실 워크스테이션 등에서 작업하는 경우에는 다음 명령어로 다운로드 받으시면 됩니다. 첫 번째에는 wget이 접속오류를 내는 경우가 많으니, 접속에러가 발생하면 다시 한 번 실행해 보세요. `/content/drive/Mydrive` 부분은 원하는 저장 경로로 바꿔서 지정하시면 됩니다."
   ]
  },
  {
   "cell_type": "code",
   "execution_count": null,
   "metadata": {
    "id": "rgT10jUOPfS0"
   },
   "outputs": [],
   "source": [
    "!wget -O - --no-check-certificate https://hyeshik.qbio.io/binfo/binfo1-datapack1.tar | tar -C /content/drive/MyDrive -xf -"
   ]
  },
  {
   "cell_type": "markdown",
   "metadata": {
    "id": "BnS18ErRPfS2"
   },
   "source": [
    "### 파일 체크섬 확인\n",
    "\n",
    "받은 데이터의 MD5 체크섬을 확인합니다. 한참 걸립니다. 각 파일들의 원래 체크섬은 다음과 같습니다. 한 번 비교해 보세요.\n",
    "\n",
    "```\n",
    "140aaf30bcb9276cc716f8699f04ddd6  CLIP-35L33G.bam\n",
    "f1b3336ed7e2f97d562dcc71641251bd  CLIP-35L33G.bam.bai\n",
    "328883a73d507eafbf5b60bd6b906201  RNA-control.bam\n",
    "02073818e2f398a73c3b76e5169de1ca  RNA-control.bam.bai\n",
    "b09550d09d6c2a4ce27f0226f426fdb1  RNA-siLin28a.bam\n",
    "fef112c727244060ea62d3f2564a07f6  RNA-siLin28a.bam.bai\n",
    "28bbd0c47d725669340c784f1b772c01  RNA-siLuc.bam\n",
    "43590fdc4d81905c0432e0d1cb8cfd5b  RNA-siLuc.bam.bai\n",
    "5c08a9297307bc83259e658c4474f0cc  RPF-siLin28a.bam\n",
    "a1bb3e29be412dfd7fd8d16b1b1acc4c  RPF-siLin28a.bam.bai\n",
    "f2eebf50943024d0116c9cd3e744c707  RPF-siLuc.bam\n",
    "dc24f69e8f571fc8be30f28ce5b84fcd  RPF-siLuc.bam.bai\n",
    "```"
   ]
  },
  {
   "cell_type": "code",
   "execution_count": null,
   "metadata": {
    "id": "6wOX9pzSPfS2"
   },
   "outputs": [],
   "source": [
    "!md5sum drive/MyDrive/binfo1-datapack1/*"
   ]
  },
  {
   "cell_type": "markdown",
   "metadata": {
    "id": "ecEA1PPQUlIK"
   },
   "source": [
    "실습에 필요한 프로그램들 몇 가지를 추가로 설치합니다."
   ]
  },
  {
   "cell_type": "code",
   "execution_count": null,
   "metadata": {
    "id": "neteyWsWEKBy"
   },
   "outputs": [],
   "source": [
    "!conda install -y bedtools bioawk"
   ]
  },
  {
   "cell_type": "markdown",
   "metadata": {
    "id": "Oe_54MZrEi4y"
   },
   "source": [
    "# Free Project\n",
    "\n",
    "본 노트북에서는 레퍼런스 논문의 Figure 2E를 재현한다. 이 그림은 LIN28A와 상호작용 하는 서열 주위의 Watson-Crick (WC) pair co-occurence의 상대 빈도를 나타낸다. Binding motif는 논문의 앞선 부분(Figure 2A-D)에서 제안한  \n",
    "\n",
    "LIN28A과 잘 알려진 target인 Pre-let-7이 상호작용할 때,  binding motif가 언제나 stem 근처의 terminal loop에 위치해 있으며, pre-let-7의 stem이 binding을 돕는다는 데이터가 있다. 따라서 binding motif를 새롭게 발견하면서 이런 현상이 유지되는지 확인하고자 그 주위의 2nd structure를 분석하는 것이 이 figure의 목적이 된다.\n",
    "\n",
    "## Process\n",
    "Figure 2E는 두 부분으로 구성되어 있다.\n",
    "1. WebLogo를 이용하여 나타낸 normalized base probability\n",
    "2. "
   ]
  },
  {
   "cell_type": "code",
   "execution_count": 2,
   "metadata": {
    "id": "IANz6DmLUkA6"
   },
   "outputs": [
    {
     "name": "stdout",
     "output_type": "stream",
     "text": [
      "/home/pmkyu98/Lecture/BioInfo 1/binfo1-datapack1\n"
     ]
    }
   ],
   "source": [
    "%cd ./binfo1-datapack1/"
   ]
  },
  {
   "cell_type": "markdown",
   "metadata": {
    "id": "CMMDdHgyJAB1"
   },
   "source": [
    "### Data Processing\n",
    "\n",
    "먼저 논문과 같이 read depth>=50 조건으로 filtering 하기 위해서 CLIP-35L33G.bam 파일을 pileup 한다."
   ]
  },
  {
   "cell_type": "code",
   "execution_count": 3,
   "metadata": {
    "id": "sumX23OcI_fl"
   },
   "outputs": [
    {
     "name": "stdout",
     "output_type": "stream",
     "text": [
      "[mpileup] 1 samples in 1 input files\n",
      "<mpileup> Set max per-file depth to 8000\n"
     ]
    }
   ],
   "source": [
    "!samtools mpileup CLIP-35L33G.bam > CLIP-35L33G.pileup"
   ]
  },
  {
   "cell_type": "code",
   "execution_count": 7,
   "metadata": {},
   "outputs": [
    {
     "name": "stdout",
     "output_type": "stream",
     "text": [
      "chr1\t3056473\tN\t4\t^!G^!G^!G^!G\tHGGI\n",
      "chr1\t3056474\tN\t4\tAAAA\tHB@I\n",
      "chr1\t3056475\tN\t4\tAAAA\tGG?I\n",
      "chr1\t3056476\tN\t4\tTTTT\tHGGH\n",
      "chr1\t3056477\tN\t4\tGGGG\tHEGI\n",
      "chr1\t3056478\tN\t4\tGGGG\tGEEI\n",
      "chr1\t3056479\tN\t4\tAAAA\tEA=I\n",
      "chr1\t3056480\tN\t4\tAAAA\t@AEH\n",
      "chr1\t3056481\tN\t4\tGGGG\tGFFI\n",
      "chr1\t3056482\tN\t4\tTTTT\tG=BG\n"
     ]
    }
   ],
   "source": [
    "!head CLIP-35L33G.pileup"
   ]
  },
  {
   "cell_type": "code",
   "execution_count": 6,
   "metadata": {},
   "outputs": [],
   "source": [
    "!awk '$4 >= 50 { print $0; }' CLIP-35L33G.pileup > filtered-CLIP-35L33G.pileup"
   ]
  },
  {
   "cell_type": "code",
   "execution_count": 3,
   "metadata": {
    "collapsed": true,
    "jupyter": {
     "outputs_hidden": true
    },
    "tags": []
   },
   "outputs": [
    {
     "name": "stdout",
     "output_type": "stream",
     "text": [
      "chr1\t3222722\tN\t124\tCCCAAAAAAAAAAAAAAAAAAAAAAAAA^!A^!A^!A^!A^!A^!A^!A^!A^!A^!A^!A^!A^!A^!A^!A^!A^!A^!A^!A^!A^!A^!A^!A^!A^!A^!A^!A^!A^!A^!A^!A^!A^!A^!A^!A^!A^!A^!A^!A^!A^!A^!A^!A^!A^!A^!A^!A^!A^!A^!A^!A^!A^!A^!A^!A^!A^!A^!A^!A^!A^!A^!A^!A^!A^!A^!A^!A^!A^!A^!A^!A^!A^!A^!A^!A^!A^!A^!A^!A^!A^!A^!A^!A^!A^!A^!A^!A^!A^!A^!A^!A^!A^!A^!A^!A^!A\tHCGGHEIHHHIBDDIIIGIG>GIHGDHHDDIAEIEEBIGIBGG8GIH@HEIHDIHDIIGHFFGFIIHI@HIGHIIIIIIIIGGBIBHHIHDGIIHBIF=GDDHIHGIHDHIHGBGBFGGHHGGF\n",
      "chr1\t3222723\tN\t146\tGGGGGGGGGGGGGGGGGGGGGGGGGGGGGGGGGGGGGGGGGGGGGGGGGGGGGGGGGGGGGGGGGGGGGGGGGGGGGGGGGGGGGGGGGGGGGGGGGGGGGGGGGGGGGGGGGGGGGGGGGGGGG^!G^!G^!G^!G^!G^!G^!G^!G^!G^!G^!G^!G^!G^!G^!G^!G^!G^!G^!G^!G^!G\tE>HIHFIIHHIGDFIII<IHBIIHGDHEB?I@HIEIBIII;>G;GII@@HIHGIIEIIGIH0DIIIHIDHIBGIIIIIIIIIF?IBHHIHDGIIHGIBGEHDEI1HGHHEHFIGB@GH>GHDE>IGHIBHIEGGHGBGHGIGIDII\n",
      "chr1\t3222724\tN\t155\tAAAAAAAAAAAAAAAAAAAAAAAAAAAAAAAAAAAAAAAAAAAAAAAAAAAAAAAAAAAAAAAAAAAAAAAAAAAAAAAAAAAAAAAAAAAAAAAAAAAAAAAAAAAAAAAAAAAAAAAAAAAAAAAAAAAAAAAAAAAAAAAA^!A^!A^!A^!A^!A^!A^!A^!A^!A^!A^!A\tH>GIGHHIHHDG:@IIIBIHDIIHG=HHDDG;IHHH;IIIDG?DIE9HHIHGII<IIGHHEGIIGHI?HI8GIIIIIIIIIGBIBHGIHDBHGHGIBGEI1II1HGIHEEIIGGHHG?HD>GI@HIGHHHDGEH;BHGIEHGIHGIIIHIDGCIE\n",
      "chr1\t3222725\tN\t157\tGGGGGGGGGGGGGGGGGGGGGGGGGGGGGGGGGGGGAGGAGGGGGGGGGGGGGGGGGGGGGGGGGGGGGGGGGGGGGAGGGGGGGGGGGGGGGGGAGGGGGGGGGGGGGGGGGGGGGGGGGGGGGGGGGGGGGAGGGGGGGGGGGGGGGGGGGGGGG\tHGDEHHIIHHIG?DIIIEIGDIIHDBBH=DI;IIHBBIII4GD3GIH<HHIHGIHEIDGIH9>IIHHIHHHBHIIGIIIGIIGBIBHHIHDBIIEGGGDEIBII;HGIDEHGID;<DGGGGGGGIEHIGHIHGGHH;EHGIDIGIHGIIIHICGBIE\n",
      "chr1\t3222726\tN\t156\tGGGAAAAGGAAAGGGGGAAAAGAGGGAGCAAGGAGGGGAGGAGGAGGGAGGAGGAGGGACGCCACGAGCGGACCGCGGGAGACAGGGGCGGAAGGGGCCCGGGACGGCGCGAGAGACGCGGCAAGAAAAAAGGGGGGGGAGGGGGAAAAAAAAAAA\tHB:IHGIIGGIGDFHII@IFBHGHGBHGCBI@IIHGBIGI;>E@BII?HHIHGEHEDIGID?GIIIHIHHIGHHIDHIIIIHG=I?HHIHD@GHDGIGEGH@HIHBIHBH:IGB<GHGGHGGGH=HI@HIHG?HHBEHBIGIGGIGGHFIGDECIE\n",
      "chr1\t3222727\tN\t156\tCCCCCCCCCCCCCCCCCCCCCCCCCCCCCCCCCCCCCCCCCCCCCCCCCCCCCCCCCCCCCCCCCCCCCCCCCCCCCCCCCCCCCCCCCCCCCCCCCCCCCCCCCCCCCCCCCCCCCCCCCCCCCCCCCCCCCCCCCCCCCCCCCCCCCCCCCCCC\tH>GIHGIIHHID8EIIIBIG<IIGDDEG:DH4GIHI8IIIBGE8GII1HGHHDDICIHGIH<GIIIHHEHIGGIIIIIIIIIG8I@HHIHDFIIGBHGEFIBID=HBIHDHFIB=FHIGEHHGGIGHIGHGHGGHHBHGIGIDHGGIIIII?GAIE\n",
      "chr1\t3222728\tN\t157\tGGGGGGGGGGGGGGGGGGGGGGGGGGGGGGGGGGGGGGGGGGGGGGGGGGGGGGGGGGGGGGGGGGGGGGGGGGGGGGGGGGGGGGGGGGGGGGGGGGGGGGGGGGGGGGGGGGGGGGGGGGGGGGGGGGGGGGGGGGGGGGGGGGGGGGGGGGGGG\tHDGIHGIIHHIH?GHIIEIGBIIHGEGG<@I=IIHI=III=DG8BIG7HHIHGIIEIIGIHBGIIIHIEHIGBIIEIHIHIIG@IBHHHHDBIGGDIGBFH?GI;HGIGEFAIDBBGHDFFHDGIGHIEHIEEDGGBGGGIGIGIIGIIIHIEGBIE\n",
      "chr1\t3222729\tN\t158\tTTTTTTTTTTTTTTTTTTTTTTTTTTTTTTTTTTTTTTTTTTTTTTTTTTTTTTTTTTTTTTTTTTTTTTTTTTTTTTTTTTTTTTTTTTTTTTTTTTTTTTTTTTTTTTTTTTTGTTTTTTTTTTTTTTTTTTTTTTTTTTTTTTTTTTTTTTTTTT\tHDGIHGIIHFIH=CIIIEIG0GHHCEGD@;I0IIBI9III=GE7DII7HGIHHIIAIIGIH:DIIIHIGHHGGIIIIIIIII@=IBGGIH<CHIGCIGFGI4II=HGIF>GIIB=8HIGGHHGBIGHIAFHEBCGH=GFBIEI>IHGIHIHIEGAI5?\n",
      "chr1\t3222730\tN\t158\tAAAAAAAAAAAAAAAAAAAAAAAAAAAAAAAAAAAAAAAAAAAAAAAAAAAAAAAAAAAAAAAAAAAAAAAAAAAAAAAAAAAAAAAAAAAAAAAAAAAAAAAAAAAAAAAAAAAAAAAAAAAAAAAAAAAAAAAAAAAAAAAAAAAAAAAAAAAAAA\tHDEIBGIIHHHH=EIHIEIG<IIHDDGB:DI@IHH3;III:DG8GII6GHIDBIIEIIGID<GEIIHIGHI<GIIGIIIIIIG=IBHHIH@BIGGFIEFDI0II3HGIHEHDI@=<DIEBHBGEIDHIEHIGBBGH=D@GIGIDIFGIHHIIDGFI5<\n",
      "chr1\t3222731\tN\t157\tGGGGGGGGGGGGGGGGGGGGGGGGGGGGGGGGGGGGGGGGGGGGGGGGGGGGGGGGGGGGGGGGGGGGGGGGGGGGGGGGGGGGGGGGGGGGGGGGGGGGGGGGGGGGGGGGGGGGGGGGGGGGGGGGGGGGGGGGGGGGGGGGGGGGGGGGGGGGG\tHDGIGGIIHHHD?DHIIEIG>IIH>BGG=DI:IIHI@III;GG2GII;HHIHHIG?HIGIGB?IIIHIGHIGGIIIIIIIIIG=ICHHIHDFHIGGI@FDIBIIHGIGCH?IEBEDIGDHDGGIGDIDFIGBFGHBGBEIGIGIEGIIIII:GBI5E\n"
     ]
    }
   ],
   "source": [
    "!head filtered-CLIP-35L33G.pileup"
   ]
  },
  {
   "cell_type": "markdown",
   "metadata": {
    "id": "iB_C8P1fJkNE"
   },
   "source": [
    "Pandas 이용해 정리. match와 substituion만 남김"
   ]
  },
  {
   "cell_type": "code",
   "execution_count": 5,
   "metadata": {},
   "outputs": [],
   "source": [
    "import pandas as pd\n",
    "import re\n",
    "\n",
    "pileup = pd.read_csv('filtered-CLIP-35L33G.pileup', sep='\\t', names=['chrom', 'pos', '_ref', 'count', 'basereads', 'quals'])"
   ]
  },
  {
   "cell_type": "code",
   "execution_count": 23,
   "metadata": {},
   "outputs": [],
   "source": [
    "toremove = re.compile('[<>$*#]') # 이 부분을 잘 모르겠음\n",
    "pileup['matches'] = pileup['basereads'].apply(lambda x: toremove.sub('', x))"
   ]
  },
  {
   "cell_type": "code",
   "execution_count": 52,
   "metadata": {},
   "outputs": [
    {
     "data": {
      "text/html": [
       "<div>\n",
       "<style scoped>\n",
       "    .dataframe tbody tr th:only-of-type {\n",
       "        vertical-align: middle;\n",
       "    }\n",
       "\n",
       "    .dataframe tbody tr th {\n",
       "        vertical-align: top;\n",
       "    }\n",
       "\n",
       "    .dataframe thead th {\n",
       "        text-align: right;\n",
       "    }\n",
       "</style>\n",
       "<table border=\"1\" class=\"dataframe\">\n",
       "  <thead>\n",
       "    <tr style=\"text-align: right;\">\n",
       "      <th></th>\n",
       "      <th>chrom</th>\n",
       "      <th>pos</th>\n",
       "      <th>_ref</th>\n",
       "      <th>count</th>\n",
       "      <th>basereads</th>\n",
       "      <th>quals</th>\n",
       "      <th>matches</th>\n",
       "      <th>CRES</th>\n",
       "    </tr>\n",
       "  </thead>\n",
       "  <tbody>\n",
       "    <tr>\n",
       "      <th>0</th>\n",
       "      <td>chr1</td>\n",
       "      <td>3222722</td>\n",
       "      <td>N</td>\n",
       "      <td>124</td>\n",
       "      <td>CCCAAAAAAAAAAAAAAAAAAAAAAAAA^!A^!A^!A^!A^!A^!A...</td>\n",
       "      <td>HCGGHEIHHHIBDDIIIGIG&gt;GIHGDHHDDIAEIEEBIGIBGG8GI...</td>\n",
       "      <td>CCCAAAAAAAAAAAAAAAAAAAAAAAAA^!A^!A^!A^!A^!A^!A...</td>\n",
       "      <td>0.164379</td>\n",
       "    </tr>\n",
       "    <tr>\n",
       "      <th>1</th>\n",
       "      <td>chr1</td>\n",
       "      <td>3222723</td>\n",
       "      <td>N</td>\n",
       "      <td>146</td>\n",
       "      <td>GGGGGGGGGGGGGGGGGGGGGGGGGGGGGGGGGGGGGGGGGGGGGG...</td>\n",
       "      <td>E&gt;HIHFIIHHIGDFIII&lt;IHBIIHGDHEB?I@HIEIBIII;&gt;G;GI...</td>\n",
       "      <td>GGGGGGGGGGGGGGGGGGGGGGGGGGGGGGGGGGGGGGGGGGGGGG...</td>\n",
       "      <td>-0.000000</td>\n",
       "    </tr>\n",
       "    <tr>\n",
       "      <th>2</th>\n",
       "      <td>chr1</td>\n",
       "      <td>3222724</td>\n",
       "      <td>N</td>\n",
       "      <td>155</td>\n",
       "      <td>AAAAAAAAAAAAAAAAAAAAAAAAAAAAAAAAAAAAAAAAAAAAAA...</td>\n",
       "      <td>H&gt;GIGHHIHHDG:@IIIBIHDIIHG=HHDDG;IHHH;IIIDG?DIE...</td>\n",
       "      <td>AAAAAAAAAAAAAAAAAAAAAAAAAAAAAAAAAAAAAAAAAAAAAA...</td>\n",
       "      <td>-0.000000</td>\n",
       "    </tr>\n",
       "    <tr>\n",
       "      <th>3</th>\n",
       "      <td>chr1</td>\n",
       "      <td>3222725</td>\n",
       "      <td>N</td>\n",
       "      <td>157</td>\n",
       "      <td>GGGGGGGGGGGGGGGGGGGGGGGGGGGGGGGGGGGGAGGAGGGGGG...</td>\n",
       "      <td>HGDEHHIIHHIG?DIIIEIGDIIHDBBH=DI;IIHBBIII4GD3GI...</td>\n",
       "      <td>GGGGGGGGGGGGGGGGGGGGGGGGGGGGGGGGGGGGAGGAGGGGGG...</td>\n",
       "      <td>0.203572</td>\n",
       "    </tr>\n",
       "    <tr>\n",
       "      <th>4</th>\n",
       "      <td>chr1</td>\n",
       "      <td>3222726</td>\n",
       "      <td>N</td>\n",
       "      <td>156</td>\n",
       "      <td>GGGAAAAGGAAAGGGGGAAAAGAGGGAGCAAGGAGGGGAGGAGGAG...</td>\n",
       "      <td>HB:IHGIIGGIGDFHII@IFBHGHGBHGCBI@IIHGBIGI;&gt;E@BI...</td>\n",
       "      <td>GGGAAAAGGAAAGGGGGAAAAGAGGGAGCAAGGAGGGGAGGAGGAG...</td>\n",
       "      <td>1.401164</td>\n",
       "    </tr>\n",
       "    <tr>\n",
       "      <th>...</th>\n",
       "      <td>...</td>\n",
       "      <td>...</td>\n",
       "      <td>...</td>\n",
       "      <td>...</td>\n",
       "      <td>...</td>\n",
       "      <td>...</td>\n",
       "      <td>...</td>\n",
       "      <td>...</td>\n",
       "    </tr>\n",
       "    <tr>\n",
       "      <th>25210334</th>\n",
       "      <td>MU069435.1</td>\n",
       "      <td>1564</td>\n",
       "      <td>N</td>\n",
       "      <td>305</td>\n",
       "      <td>&gt;&gt;&gt;&gt;TTTTTTTTTTTTTTTTTTTTTTTTTTTTTTTTTTTTTTTTTT...</td>\n",
       "      <td>DIDHGHIIGIGIEDIGIHIIG?FBGG@E=:A7G8@HHIHIIDDBII...</td>\n",
       "      <td>TTTTTTTTTTTTTTTTTTTTTTTTTTTTTTTTTTTTTTTTTTTTTT...</td>\n",
       "      <td>-0.000000</td>\n",
       "    </tr>\n",
       "    <tr>\n",
       "      <th>25210335</th>\n",
       "      <td>MU069435.1</td>\n",
       "      <td>1565</td>\n",
       "      <td>N</td>\n",
       "      <td>297</td>\n",
       "      <td>&gt;&gt;&gt;&gt;AAAAAAAAAAAA$AA$AA$A$AA$AA$A$AAAAAAAAAAAAA...</td>\n",
       "      <td>DIDHBHHIIIGICGIGIEIHDEFBGE8C=1?1G88IHIHIIDGBHI...</td>\n",
       "      <td>AAAAAAAAAAAAAAAAAAAAAAAAAAAAAAAAAAAAAAAAAAAAAA...</td>\n",
       "      <td>-0.000000</td>\n",
       "    </tr>\n",
       "    <tr>\n",
       "      <th>25210336</th>\n",
       "      <td>MU069435.1</td>\n",
       "      <td>1566</td>\n",
       "      <td>N</td>\n",
       "      <td>289</td>\n",
       "      <td>&gt;&gt;&gt;&gt;CCCCCCCCCCCCCCCCCCCCCCCCCCCCCCCCCCCCCCCCCC...</td>\n",
       "      <td>DIDHG&gt;IIHIHHCEIIIEB5D@;=H5BIHIHHI&lt;DAIIBDIIFIIH...</td>\n",
       "      <td>CCCCCCCCCCCCCCCCCCCCCCCCCCCCCCCCCCCCCCCCCCCCCC...</td>\n",
       "      <td>0.033667</td>\n",
       "    </tr>\n",
       "    <tr>\n",
       "      <th>25210337</th>\n",
       "      <td>MU069435.1</td>\n",
       "      <td>1567</td>\n",
       "      <td>N</td>\n",
       "      <td>291</td>\n",
       "      <td>&gt;&gt;&gt;&gt;T$T$T$T$T$T$T$T$T$T$T$T$T$T$T$TTTTTTTTTT$T...</td>\n",
       "      <td>DIDHFHGIIIIIDDIII?B=G::B=G=DIHIHIID@BIIGGIIHIH...</td>\n",
       "      <td>TTTTTTTTTTTTTTTTTTTTTTTTTTTTTTTTTTTTTTTTTTTTTT...</td>\n",
       "      <td>-0.000000</td>\n",
       "    </tr>\n",
       "    <tr>\n",
       "      <th>25210338</th>\n",
       "      <td>MU069435.1</td>\n",
       "      <td>1568</td>\n",
       "      <td>N</td>\n",
       "      <td>88</td>\n",
       "      <td>&gt;&gt;&gt;&gt;T$T$T$T$T$T$T$T$T$T$TT$T$TT$T$T$T$T$T$T$T$...</td>\n",
       "      <td>DIDHAG4BDBHBEIGHIHHHIIHIDIIIIIHIGIHIIEIHIHDHIG...</td>\n",
       "      <td>TTTTTTTTTTTTTTTTTTTTTTTTTTTTTTTTTTTTTTTTTTTTTT...</td>\n",
       "      <td>-0.000000</td>\n",
       "    </tr>\n",
       "  </tbody>\n",
       "</table>\n",
       "<p>25210339 rows × 8 columns</p>\n",
       "</div>"
      ],
      "text/plain": [
       "               chrom      pos _ref  count  \\\n",
       "0               chr1  3222722    N    124   \n",
       "1               chr1  3222723    N    146   \n",
       "2               chr1  3222724    N    155   \n",
       "3               chr1  3222725    N    157   \n",
       "4               chr1  3222726    N    156   \n",
       "...              ...      ...  ...    ...   \n",
       "25210334  MU069435.1     1564    N    305   \n",
       "25210335  MU069435.1     1565    N    297   \n",
       "25210336  MU069435.1     1566    N    289   \n",
       "25210337  MU069435.1     1567    N    291   \n",
       "25210338  MU069435.1     1568    N     88   \n",
       "\n",
       "                                                  basereads  \\\n",
       "0         CCCAAAAAAAAAAAAAAAAAAAAAAAAA^!A^!A^!A^!A^!A^!A...   \n",
       "1         GGGGGGGGGGGGGGGGGGGGGGGGGGGGGGGGGGGGGGGGGGGGGG...   \n",
       "2         AAAAAAAAAAAAAAAAAAAAAAAAAAAAAAAAAAAAAAAAAAAAAA...   \n",
       "3         GGGGGGGGGGGGGGGGGGGGGGGGGGGGGGGGGGGGAGGAGGGGGG...   \n",
       "4         GGGAAAAGGAAAGGGGGAAAAGAGGGAGCAAGGAGGGGAGGAGGAG...   \n",
       "...                                                     ...   \n",
       "25210334  >>>>TTTTTTTTTTTTTTTTTTTTTTTTTTTTTTTTTTTTTTTTTT...   \n",
       "25210335  >>>>AAAAAAAAAAAA$AA$AA$A$AA$AA$A$AAAAAAAAAAAAA...   \n",
       "25210336  >>>>CCCCCCCCCCCCCCCCCCCCCCCCCCCCCCCCCCCCCCCCCC...   \n",
       "25210337  >>>>T$T$T$T$T$T$T$T$T$T$T$T$T$T$T$TTTTTTTTTT$T...   \n",
       "25210338  >>>>T$T$T$T$T$T$T$T$T$T$TT$T$TT$T$T$T$T$T$T$T$...   \n",
       "\n",
       "                                                      quals  \\\n",
       "0         HCGGHEIHHHIBDDIIIGIG>GIHGDHHDDIAEIEEBIGIBGG8GI...   \n",
       "1         E>HIHFIIHHIGDFIII<IHBIIHGDHEB?I@HIEIBIII;>G;GI...   \n",
       "2         H>GIGHHIHHDG:@IIIBIHDIIHG=HHDDG;IHHH;IIIDG?DIE...   \n",
       "3         HGDEHHIIHHIG?DIIIEIGDIIHDBBH=DI;IIHBBIII4GD3GI...   \n",
       "4         HB:IHGIIGGIGDFHII@IFBHGHGBHGCBI@IIHGBIGI;>E@BI...   \n",
       "...                                                     ...   \n",
       "25210334  DIDHGHIIGIGIEDIGIHIIG?FBGG@E=:A7G8@HHIHIIDDBII...   \n",
       "25210335  DIDHBHHIIIGICGIGIEIHDEFBGE8C=1?1G88IHIHIIDGBHI...   \n",
       "25210336  DIDHG>IIHIHHCEIIIEB5D@;=H5BIHIHHI<DAIIBDIIFIIH...   \n",
       "25210337  DIDHFHGIIIIIDDIII?B=G::B=G=DIHIHIID@BIIGGIIHIH...   \n",
       "25210338  DIDHAG4BDBHBEIGHIHHHIIHIDIIIIIHIGIHIIEIHIHDHIG...   \n",
       "\n",
       "                                                    matches      CRES  \n",
       "0         CCCAAAAAAAAAAAAAAAAAAAAAAAAA^!A^!A^!A^!A^!A^!A...  0.164379  \n",
       "1         GGGGGGGGGGGGGGGGGGGGGGGGGGGGGGGGGGGGGGGGGGGGGG... -0.000000  \n",
       "2         AAAAAAAAAAAAAAAAAAAAAAAAAAAAAAAAAAAAAAAAAAAAAA... -0.000000  \n",
       "3         GGGGGGGGGGGGGGGGGGGGGGGGGGGGGGGGGGGGAGGAGGGGGG...  0.203572  \n",
       "4         GGGAAAAGGAAAGGGGGAAAAGAGGGAGCAAGGAGGGGAGGAGGAG...  1.401164  \n",
       "...                                                     ...       ...  \n",
       "25210334  TTTTTTTTTTTTTTTTTTTTTTTTTTTTTTTTTTTTTTTTTTTTTT... -0.000000  \n",
       "25210335  AAAAAAAAAAAAAAAAAAAAAAAAAAAAAAAAAAAAAAAAAAAAAA... -0.000000  \n",
       "25210336  CCCCCCCCCCCCCCCCCCCCCCCCCCCCCCCCCCCCCCCCCCCCCC...  0.033667  \n",
       "25210337  TTTTTTTTTTTTTTTTTTTTTTTTTTTTTTTTTTTTTTTTTTTTTT... -0.000000  \n",
       "25210338  TTTTTTTTTTTTTTTTTTTTTTTTTTTTTTTTTTTTTTTTTTTTTT... -0.000000  \n",
       "\n",
       "[25210339 rows x 8 columns]"
      ]
     },
     "execution_count": 52,
     "metadata": {},
     "output_type": "execute_result"
    }
   ],
   "source": [
    "pileup"
   ]
  },
  {
   "cell_type": "markdown",
   "metadata": {
    "id": "AHTL_baZRg2y"
   },
   "source": [
    "Shannon entropy 계산하여 CRES>0.8 기준으로 filtering.\n",
    "Shannon entropy 계산식은 레퍼런스 논문의 Supplementary part를 참조하였다."
   ]
  },
  {
   "cell_type": "code",
   "execution_count": 43,
   "metadata": {
    "id": "uXYF___MILrK"
   },
   "outputs": [],
   "source": [
    "from collections import Counter\n",
    "import numpy as np\n",
    "\n",
    "def CRES(seq):\n",
    "    letters = Counter(seq)\n",
    "    bases = ['A', 'T', 'G', 'C']\n",
    "    \n",
    "    shannon = 0\n",
    "    whole = letters['A'] + letters['T'] + letters['G'] + letters['C']\n",
    "    for base in bases:\n",
    "        if base in letters:\n",
    "            p_n = letters[base] / whole\n",
    "            shannon += (p_n * np.log2(p_n))\n",
    "        \n",
    "    return -1 * shannon"
   ]
  },
  {
   "cell_type": "code",
   "execution_count": 45,
   "metadata": {},
   "outputs": [],
   "source": [
    "pileup['CRES'] = pileup['matches'].apply(lambda x: CRES(x))"
   ]
  },
  {
   "cell_type": "code",
   "execution_count": 53,
   "metadata": {},
   "outputs": [],
   "source": [
    "data = pileup[pileup.CRES >= 0.8].copy()"
   ]
  },
  {
   "cell_type": "code",
   "execution_count": 54,
   "metadata": {},
   "outputs": [
    {
     "data": {
      "text/html": [
       "<div>\n",
       "<style scoped>\n",
       "    .dataframe tbody tr th:only-of-type {\n",
       "        vertical-align: middle;\n",
       "    }\n",
       "\n",
       "    .dataframe tbody tr th {\n",
       "        vertical-align: top;\n",
       "    }\n",
       "\n",
       "    .dataframe thead th {\n",
       "        text-align: right;\n",
       "    }\n",
       "</style>\n",
       "<table border=\"1\" class=\"dataframe\">\n",
       "  <thead>\n",
       "    <tr style=\"text-align: right;\">\n",
       "      <th></th>\n",
       "      <th>chrom</th>\n",
       "      <th>pos</th>\n",
       "      <th>_ref</th>\n",
       "      <th>count</th>\n",
       "      <th>basereads</th>\n",
       "      <th>quals</th>\n",
       "      <th>matches</th>\n",
       "      <th>CRES</th>\n",
       "    </tr>\n",
       "  </thead>\n",
       "  <tbody>\n",
       "    <tr>\n",
       "      <th>4</th>\n",
       "      <td>chr1</td>\n",
       "      <td>3222726</td>\n",
       "      <td>N</td>\n",
       "      <td>156</td>\n",
       "      <td>GGGAAAAGGAAAGGGGGAAAAGAGGGAGCAAGGAGGGGAGGAGGAG...</td>\n",
       "      <td>HB:IHGIIGGIGDFHII@IFBHGHGBHGCBI@IIHGBIGI;&gt;E@BI...</td>\n",
       "      <td>GGGAAAAGGAAAGGGGGAAAAGAGGGAGCAAGGAGGGGAGGAGGAG...</td>\n",
       "      <td>1.401164</td>\n",
       "    </tr>\n",
       "    <tr>\n",
       "      <th>46</th>\n",
       "      <td>chr1</td>\n",
       "      <td>3224576</td>\n",
       "      <td>N</td>\n",
       "      <td>168</td>\n",
       "      <td>CCCG*GGGG*GGGGC*GGGGGGGGGG**GGGGGCTCTGCCCCCCCG...</td>\n",
       "      <td>BGI?H?G8HIEGHIIIBIHFIE9GIIG?=E?:HHGBA8GCB??0GH...</td>\n",
       "      <td>CCCGGGGGGGGGCGGGGGGGGGGGGGGGCTCTGCCCCCCCGCCCGG...</td>\n",
       "      <td>1.261116</td>\n",
       "    </tr>\n",
       "    <tr>\n",
       "      <th>318</th>\n",
       "      <td>chr1</td>\n",
       "      <td>4631665</td>\n",
       "      <td>N</td>\n",
       "      <td>170</td>\n",
       "      <td>ggggggggggggggGGGCGGCGCGGGGAGGAGAAGAAGAGGAAAAA...</td>\n",
       "      <td>GDIHIDIIIIIDEHGDHBIHGIHHBIBCH4DHII?IG?IIGI8HII...</td>\n",
       "      <td>ggggggggggggggGGGCGGCGCGGGGAGGAGAAGAAGAGGAAAAA...</td>\n",
       "      <td>1.071389</td>\n",
       "    </tr>\n",
       "    <tr>\n",
       "      <th>348</th>\n",
       "      <td>chr1</td>\n",
       "      <td>4631695</td>\n",
       "      <td>N</td>\n",
       "      <td>511</td>\n",
       "      <td>GGGGGGGGGGGGGGGGGGGGGGGGGGGGGGGGGGGGGGGGGGGGGG...</td>\n",
       "      <td>HBDDDD&lt;IHGEIIEIACBIFHBIIIHBIHHHAIDDBBHIHIIHEG:...</td>\n",
       "      <td>GGGGGGGGGGGGGGGGGGGGGGGGGGGGGGGGGGGGGGGGGGGGGG...</td>\n",
       "      <td>0.834922</td>\n",
       "    </tr>\n",
       "    <tr>\n",
       "      <th>376</th>\n",
       "      <td>chr1</td>\n",
       "      <td>4631745</td>\n",
       "      <td>N</td>\n",
       "      <td>78</td>\n",
       "      <td>CCCCCCCTTTCCCTCTCTTCTCCTCTTTTcccccccCCCCCCCCCC...</td>\n",
       "      <td>8HIHHBIF7HIIFFIIIBB:GEHIBIH;IEG&gt;GHII?IIGIBGGGG...</td>\n",
       "      <td>CCCCCCCTTTCCCTCTCTTCTCCTCTTTTcccccccCCCCCCCCCC...</td>\n",
       "      <td>0.834648</td>\n",
       "    </tr>\n",
       "    <tr>\n",
       "      <th>...</th>\n",
       "      <td>...</td>\n",
       "      <td>...</td>\n",
       "      <td>...</td>\n",
       "      <td>...</td>\n",
       "      <td>...</td>\n",
       "      <td>...</td>\n",
       "      <td>...</td>\n",
       "      <td>...</td>\n",
       "    </tr>\n",
       "    <tr>\n",
       "      <th>25210020</th>\n",
       "      <td>MU069435.1</td>\n",
       "      <td>505</td>\n",
       "      <td>N</td>\n",
       "      <td>2074</td>\n",
       "      <td>TCCTCTTTCTCCTTCCTCCCCCCCCCCCCCCTCCCTCC*CCCCCTC...</td>\n",
       "      <td>@@:&lt;B??&gt;@@D@F@73?HIIH5I&gt;DIIBEHHGBDI;C=7E9IHGG&gt;...</td>\n",
       "      <td>TCCTCTTTCTCCTTCCTCCCCCCCCCCCCCCTCCCTCCCCCCCTCC...</td>\n",
       "      <td>0.822535</td>\n",
       "    </tr>\n",
       "    <tr>\n",
       "      <th>25210096</th>\n",
       "      <td>MU069435.1</td>\n",
       "      <td>581</td>\n",
       "      <td>N</td>\n",
       "      <td>2854</td>\n",
       "      <td>GGGGGGGGGGGGGGGGGGGGGGGGGGGGGGGGGGGGGGGGGGGGGG...</td>\n",
       "      <td>H?FEC@GBBADEEBEBD?E?&gt;88@?G@BIE@&gt;DB;GEBFGGECEB....</td>\n",
       "      <td>GGGGGGGGGGGGGGGGGGGGGGGGGGGGGGGGGGGGGGGGGGGGGG...</td>\n",
       "      <td>1.314127</td>\n",
       "    </tr>\n",
       "    <tr>\n",
       "      <th>25210097</th>\n",
       "      <td>MU069435.1</td>\n",
       "      <td>582</td>\n",
       "      <td>N</td>\n",
       "      <td>2858</td>\n",
       "      <td>GGGGGGGGGGGGGGGGGGGGGGGGGGGTTTGGGGGGGGGTGGTGGG...</td>\n",
       "      <td>DGHB&gt;@EBB&gt;BCEAEBFAC?C18D9D@@@BEBHEEHG;EAACAB0H...</td>\n",
       "      <td>GGGGGGGGGGGGGGGGGGGGGGGGGGGTTTGGGGGGGGGTGGTGGG...</td>\n",
       "      <td>0.952813</td>\n",
       "    </tr>\n",
       "    <tr>\n",
       "      <th>25210240</th>\n",
       "      <td>MU069435.1</td>\n",
       "      <td>1023</td>\n",
       "      <td>N</td>\n",
       "      <td>86</td>\n",
       "      <td>&gt;&gt;&gt;&gt;GGGGGGAGGG$AAGGAGGGGGGAGGGGGGGAGAGAGGGAGGC...</td>\n",
       "      <td>DIDHD/BB?FBIDE&lt;EF?@FIHGHGFEHGIG@IGBEIGIEA@D&gt;F=...</td>\n",
       "      <td>GGGGGGAGGGAAGGAGGGGGGAGGGGGGGAGAGAGGGAGGCGAGGT...</td>\n",
       "      <td>0.935560</td>\n",
       "    </tr>\n",
       "    <tr>\n",
       "      <th>25210321</th>\n",
       "      <td>MU069435.1</td>\n",
       "      <td>1551</td>\n",
       "      <td>N</td>\n",
       "      <td>349</td>\n",
       "      <td>&gt;&gt;&gt;&gt;AAAAAAAAAGGGGGGGGGGGGGGGGGGGGGGGGGGAGGAGGG...</td>\n",
       "      <td>DIDHEGHFIIIIEGIDIGIIDDG8GD=G??E=G?EEBHGIEHHIII...</td>\n",
       "      <td>AAAAAAAAAGGGGGGGGGGGGGGGGGGGGGGGGGGAGGAGGGGGAG...</td>\n",
       "      <td>1.355309</td>\n",
       "    </tr>\n",
       "  </tbody>\n",
       "</table>\n",
       "<p>30148 rows × 8 columns</p>\n",
       "</div>"
      ],
      "text/plain": [
       "               chrom      pos _ref  count  \\\n",
       "4               chr1  3222726    N    156   \n",
       "46              chr1  3224576    N    168   \n",
       "318             chr1  4631665    N    170   \n",
       "348             chr1  4631695    N    511   \n",
       "376             chr1  4631745    N     78   \n",
       "...              ...      ...  ...    ...   \n",
       "25210020  MU069435.1      505    N   2074   \n",
       "25210096  MU069435.1      581    N   2854   \n",
       "25210097  MU069435.1      582    N   2858   \n",
       "25210240  MU069435.1     1023    N     86   \n",
       "25210321  MU069435.1     1551    N    349   \n",
       "\n",
       "                                                  basereads  \\\n",
       "4         GGGAAAAGGAAAGGGGGAAAAGAGGGAGCAAGGAGGGGAGGAGGAG...   \n",
       "46        CCCG*GGGG*GGGGC*GGGGGGGGGG**GGGGGCTCTGCCCCCCCG...   \n",
       "318       ggggggggggggggGGGCGGCGCGGGGAGGAGAAGAAGAGGAAAAA...   \n",
       "348       GGGGGGGGGGGGGGGGGGGGGGGGGGGGGGGGGGGGGGGGGGGGGG...   \n",
       "376       CCCCCCCTTTCCCTCTCTTCTCCTCTTTTcccccccCCCCCCCCCC...   \n",
       "...                                                     ...   \n",
       "25210020  TCCTCTTTCTCCTTCCTCCCCCCCCCCCCCCTCCCTCC*CCCCCTC...   \n",
       "25210096  GGGGGGGGGGGGGGGGGGGGGGGGGGGGGGGGGGGGGGGGGGGGGG...   \n",
       "25210097  GGGGGGGGGGGGGGGGGGGGGGGGGGGTTTGGGGGGGGGTGGTGGG...   \n",
       "25210240  >>>>GGGGGGAGGG$AAGGAGGGGGGAGGGGGGGAGAGAGGGAGGC...   \n",
       "25210321  >>>>AAAAAAAAAGGGGGGGGGGGGGGGGGGGGGGGGGGAGGAGGG...   \n",
       "\n",
       "                                                      quals  \\\n",
       "4         HB:IHGIIGGIGDFHII@IFBHGHGBHGCBI@IIHGBIGI;>E@BI...   \n",
       "46        BGI?H?G8HIEGHIIIBIHFIE9GIIG?=E?:HHGBA8GCB??0GH...   \n",
       "318       GDIHIDIIIIIDEHGDHBIHGIHHBIBCH4DHII?IG?IIGI8HII...   \n",
       "348       HBDDDD<IHGEIIEIACBIFHBIIIHBIHHHAIDDBBHIHIIHEG:...   \n",
       "376       8HIHHBIF7HIIFFIIIBB:GEHIBIH;IEG>GHII?IIGIBGGGG...   \n",
       "...                                                     ...   \n",
       "25210020  @@:<B??>@@D@F@73?HIIH5I>DIIBEHHGBDI;C=7E9IHGG>...   \n",
       "25210096  H?FEC@GBBADEEBEBD?E?>88@?G@BIE@>DB;GEBFGGECEB....   \n",
       "25210097  DGHB>@EBB>BCEAEBFAC?C18D9D@@@BEBHEEHG;EAACAB0H...   \n",
       "25210240  DIDHD/BB?FBIDE<EF?@FIHGHGFEHGIG@IGBEIGIEA@D>F=...   \n",
       "25210321  DIDHEGHFIIIIEGIDIGIIDDG8GD=G??E=G?EEBHGIEHHIII...   \n",
       "\n",
       "                                                    matches      CRES  \n",
       "4         GGGAAAAGGAAAGGGGGAAAAGAGGGAGCAAGGAGGGGAGGAGGAG...  1.401164  \n",
       "46        CCCGGGGGGGGGCGGGGGGGGGGGGGGGCTCTGCCCCCCCGCCCGG...  1.261116  \n",
       "318       ggggggggggggggGGGCGGCGCGGGGAGGAGAAGAAGAGGAAAAA...  1.071389  \n",
       "348       GGGGGGGGGGGGGGGGGGGGGGGGGGGGGGGGGGGGGGGGGGGGGG...  0.834922  \n",
       "376       CCCCCCCTTTCCCTCTCTTCTCCTCTTTTcccccccCCCCCCCCCC...  0.834648  \n",
       "...                                                     ...       ...  \n",
       "25210020  TCCTCTTTCTCCTTCCTCCCCCCCCCCCCCCTCCCTCCCCCCCTCC...  0.822535  \n",
       "25210096  GGGGGGGGGGGGGGGGGGGGGGGGGGGGGGGGGGGGGGGGGGGGGG...  1.314127  \n",
       "25210097  GGGGGGGGGGGGGGGGGGGGGGGGGGGTTTGGGGGGGGGTGGTGGG...  0.952813  \n",
       "25210240  GGGGGGAGGGAAGGAGGGGGGAGGGGGGGAGAGAGGGAGGCGAGGT...  0.935560  \n",
       "25210321  AAAAAAAAAGGGGGGGGGGGGGGGGGGGGGGGGGGAGGAGGGGGAG...  1.355309  \n",
       "\n",
       "[30148 rows x 8 columns]"
      ]
     },
     "execution_count": 54,
     "metadata": {},
     "output_type": "execute_result"
    }
   ],
   "source": [
    "data"
   ]
  }
 ],
 "metadata": {
  "colab": {
   "collapsed_sections": [],
   "name": "CoLab_TermProj_2022-3.ipynb",
   "provenance": []
  },
  "kernelspec": {
   "display_name": "Python 3 (ipykernel)",
   "language": "python",
   "name": "python3"
  },
  "language_info": {
   "codemirror_mode": {
    "name": "ipython",
    "version": 3
   },
   "file_extension": ".py",
   "mimetype": "text/x-python",
   "name": "python",
   "nbconvert_exporter": "python",
   "pygments_lexer": "ipython3",
   "version": "3.10.4"
  }
 },
 "nbformat": 4,
 "nbformat_minor": 4
}
